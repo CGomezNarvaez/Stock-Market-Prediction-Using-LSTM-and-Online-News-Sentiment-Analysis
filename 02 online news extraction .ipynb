{
 "cells": [
  {
   "cell_type": "code",
   "execution_count": 1,
   "metadata": {
    "ExecuteTime": {
     "end_time": "2020-05-04T20:43:59.563416Z",
     "start_time": "2020-05-04T20:43:59.546696Z"
    }
   },
   "outputs": [
    {
     "data": {
      "text/html": [
       "<style>.container { width:100% !important; }</style>"
      ],
      "text/plain": [
       "<IPython.core.display.HTML object>"
      ]
     },
     "metadata": {},
     "output_type": "display_data"
    }
   ],
   "source": [
    "from IPython.core.display import display, HTML\n",
    "display(HTML(\"<style>.container { width:100% !important; }</style>\"))"
   ]
  },
  {
   "cell_type": "markdown",
   "metadata": {},
   "source": [
    "* This notebook contains the complete code to extract the online news related to an specific firm, in this case Microsoft (MSFT).\n",
    "\n",
    "    1. All the news have been extracted from https://business.financialpost.com/"
   ]
  },
  {
   "cell_type": "code",
   "execution_count": 1,
   "metadata": {
    "ExecuteTime": {
     "end_time": "2020-05-04T21:57:00.262294Z",
     "start_time": "2020-05-04T21:56:57.496416Z"
    }
   },
   "outputs": [],
   "source": [
    "import requests\n",
    "import urllib\n",
    "import sys\n",
    "import numpy  as np\n",
    "import pandas as pd\n",
    "\n",
    "from bs4 import BeautifulSoup"
   ]
  },
  {
   "cell_type": "code",
   "execution_count": null,
   "metadata": {},
   "outputs": [],
   "source": []
  },
  {
   "cell_type": "code",
   "execution_count": null,
   "metadata": {},
   "outputs": [],
   "source": []
  },
  {
   "cell_type": "markdown",
   "metadata": {},
   "source": [
    "# 1. Extract web links according to a signature and the number of pages\n"
   ]
  },
  {
   "cell_type": "code",
   "execution_count": 2,
   "metadata": {
    "ExecuteTime": {
     "end_time": "2020-05-04T21:57:03.073949Z",
     "start_time": "2020-05-04T21:57:03.069585Z"
    }
   },
   "outputs": [],
   "source": [
    "def get_internal_links(ur):\n",
    "    \n",
    "    info  = BeautifulSoup(requests.get(ur,allow_redirects = True).content,'html.parser').find_all(\"h4\",{\"class\":\"entry-title\"})\n",
    "    links  = [ a['href'] for each_link in info for a in each_link.find_all('a', href=True)]\n",
    "\n",
    "    return(links)   "
   ]
  },
  {
   "cell_type": "code",
   "execution_count": 3,
   "metadata": {
    "ExecuteTime": {
     "end_time": "2020-05-04T21:57:03.552753Z",
     "start_time": "2020-05-04T21:57:03.547612Z"
    }
   },
   "outputs": [],
   "source": [
    "def extract_link_of_news(k_word,n_of_page):\n",
    "    \n",
    "    news_df                  = pd.DataFrame()    \n",
    "    \n",
    "    link =  \"https://business.financialpost.com/page/\"+str(n_of_page)+\"?s=\"+k_word\n",
    "    \n",
    "\n",
    "    news_df[\"internal_urls\"]  = get_internal_links(link)\n",
    "    news_df[\"principal_url\"]  = link    \n",
    "    news_df[\"n_of_page\"]      = n_of_page\n",
    "    \n",
    "    return(news_df[[\"n_of_page\",\"principal_url\",\"internal_urls\"]])"
   ]
  },
  {
   "cell_type": "code",
   "execution_count": 4,
   "metadata": {
    "ExecuteTime": {
     "end_time": "2020-05-04T21:57:46.017541Z",
     "start_time": "2020-05-04T21:57:04.521682Z"
    }
   },
   "outputs": [
    {
     "data": {
      "text/html": [
       "<div>\n",
       "<style scoped>\n",
       "    .dataframe tbody tr th:only-of-type {\n",
       "        vertical-align: middle;\n",
       "    }\n",
       "\n",
       "    .dataframe tbody tr th {\n",
       "        vertical-align: top;\n",
       "    }\n",
       "\n",
       "    .dataframe thead th {\n",
       "        text-align: right;\n",
       "    }\n",
       "</style>\n",
       "<table border=\"1\" class=\"dataframe\">\n",
       "  <thead>\n",
       "    <tr style=\"text-align: right;\">\n",
       "      <th></th>\n",
       "      <th>n_of_page</th>\n",
       "      <th>principal_url</th>\n",
       "      <th>internal_urls</th>\n",
       "    </tr>\n",
       "  </thead>\n",
       "  <tbody>\n",
       "    <tr>\n",
       "      <th>0</th>\n",
       "      <td>1</td>\n",
       "      <td>https://business.financialpost.com/page/1?s=mi...</td>\n",
       "      <td>https://business.financialpost.com/pmn/busines...</td>\n",
       "    </tr>\n",
       "    <tr>\n",
       "      <th>1</th>\n",
       "      <td>1</td>\n",
       "      <td>https://business.financialpost.com/page/1?s=mi...</td>\n",
       "      <td>https://business.financialpost.com/technology/...</td>\n",
       "    </tr>\n",
       "    <tr>\n",
       "      <th>2</th>\n",
       "      <td>1</td>\n",
       "      <td>https://business.financialpost.com/page/1?s=mi...</td>\n",
       "      <td>https://business.financialpost.com/pmn/press-r...</td>\n",
       "    </tr>\n",
       "    <tr>\n",
       "      <th>3</th>\n",
       "      <td>1</td>\n",
       "      <td>https://business.financialpost.com/page/1?s=mi...</td>\n",
       "      <td>https://business.financialpost.com/business-in...</td>\n",
       "    </tr>\n",
       "    <tr>\n",
       "      <th>4</th>\n",
       "      <td>1</td>\n",
       "      <td>https://business.financialpost.com/page/1?s=mi...</td>\n",
       "      <td>https://business.financialpost.com/business-in...</td>\n",
       "    </tr>\n",
       "    <tr>\n",
       "      <th>...</th>\n",
       "      <td>...</td>\n",
       "      <td>...</td>\n",
       "      <td>...</td>\n",
       "    </tr>\n",
       "    <tr>\n",
       "      <th>195</th>\n",
       "      <td>20</td>\n",
       "      <td>https://business.financialpost.com/page/20?s=m...</td>\n",
       "      <td>https://business.financialpost.com/technology/...</td>\n",
       "    </tr>\n",
       "    <tr>\n",
       "      <th>196</th>\n",
       "      <td>20</td>\n",
       "      <td>https://business.financialpost.com/page/20?s=m...</td>\n",
       "      <td>https://business.financialpost.com/technology/...</td>\n",
       "    </tr>\n",
       "    <tr>\n",
       "      <th>197</th>\n",
       "      <td>20</td>\n",
       "      <td>https://business.financialpost.com/page/20?s=m...</td>\n",
       "      <td>https://business.financialpost.com/technology/...</td>\n",
       "    </tr>\n",
       "    <tr>\n",
       "      <th>198</th>\n",
       "      <td>20</td>\n",
       "      <td>https://business.financialpost.com/page/20?s=m...</td>\n",
       "      <td>https://business.financialpost.com/pmn/busines...</td>\n",
       "    </tr>\n",
       "    <tr>\n",
       "      <th>199</th>\n",
       "      <td>20</td>\n",
       "      <td>https://business.financialpost.com/page/20?s=m...</td>\n",
       "      <td>https://business.financialpost.com/pmn/press-r...</td>\n",
       "    </tr>\n",
       "  </tbody>\n",
       "</table>\n",
       "<p>200 rows × 3 columns</p>\n",
       "</div>"
      ],
      "text/plain": [
       "     n_of_page                                      principal_url  \\\n",
       "0            1  https://business.financialpost.com/page/1?s=mi...   \n",
       "1            1  https://business.financialpost.com/page/1?s=mi...   \n",
       "2            1  https://business.financialpost.com/page/1?s=mi...   \n",
       "3            1  https://business.financialpost.com/page/1?s=mi...   \n",
       "4            1  https://business.financialpost.com/page/1?s=mi...   \n",
       "..         ...                                                ...   \n",
       "195         20  https://business.financialpost.com/page/20?s=m...   \n",
       "196         20  https://business.financialpost.com/page/20?s=m...   \n",
       "197         20  https://business.financialpost.com/page/20?s=m...   \n",
       "198         20  https://business.financialpost.com/page/20?s=m...   \n",
       "199         20  https://business.financialpost.com/page/20?s=m...   \n",
       "\n",
       "                                         internal_urls  \n",
       "0    https://business.financialpost.com/pmn/busines...  \n",
       "1    https://business.financialpost.com/technology/...  \n",
       "2    https://business.financialpost.com/pmn/press-r...  \n",
       "3    https://business.financialpost.com/business-in...  \n",
       "4    https://business.financialpost.com/business-in...  \n",
       "..                                                 ...  \n",
       "195  https://business.financialpost.com/technology/...  \n",
       "196  https://business.financialpost.com/technology/...  \n",
       "197  https://business.financialpost.com/technology/...  \n",
       "198  https://business.financialpost.com/pmn/busines...  \n",
       "199  https://business.financialpost.com/pmn/press-r...  \n",
       "\n",
       "[200 rows x 3 columns]"
      ]
     },
     "execution_count": 4,
     "metadata": {},
     "output_type": "execute_result"
    }
   ],
   "source": [
    "n_of_pages = 20\n",
    "df = pd.concat([extract_link_of_news(\"microsoft\",i) for i in range(1,n_of_pages+1)],ignore_index = True)\n",
    "df"
   ]
  },
  {
   "cell_type": "markdown",
   "metadata": {},
   "source": [
    "# 2. Extract the date and text from each link "
   ]
  },
  {
   "cell_type": "code",
   "execution_count": 5,
   "metadata": {
    "ExecuteTime": {
     "end_time": "2020-05-04T21:57:48.858977Z",
     "start_time": "2020-05-04T21:57:48.844868Z"
    }
   },
   "outputs": [],
   "source": [
    "def extract_date_and_text(ur):\n",
    "    url = ur\n",
    "    \n",
    "    try:\n",
    "        soup         = BeautifulSoup(requests.get(url).content, 'html.parser')\n",
    "        g = 0\n",
    "    \n",
    "    except:   \n",
    "        the_type, the_value, the_traceback = sys.exc_info()\n",
    "        g = 1\n",
    "    \n",
    "\n",
    "    if(g==0):\n",
    "\n",
    "        if(soup.find(\"div\",class_ = \"entry-content\").find_all(\"p\")):\n",
    "            text_of_news = soup.find(\"div\",class_ = \"entry-content\").find_all(\"p\")\n",
    "        elif(soup.find(\"div\",class_ = \"entry-content\").find(\"p\")):\n",
    "            text_of_news = soup.find(\"div\",class_ = \"entry-content\").find(\"p\")\n",
    "        else:\n",
    "            text_of_news = \"NO TEXT\"\n",
    "\n",
    "        final_date   = soup.find(\"time\")[\"datetime\"]\n",
    "\n",
    "        get_text_vec = [i.text for i in text_of_news]\n",
    "        final_text = \"\".join(get_text_vec)\n",
    "        \n",
    "        \n",
    "    else: final_date = \"\";final_text = \"\"\n",
    "    \n",
    "    return(final_date,final_text)"
   ]
  },
  {
   "cell_type": "code",
   "execution_count": null,
   "metadata": {},
   "outputs": [],
   "source": []
  },
  {
   "cell_type": "code",
   "execution_count": 8,
   "metadata": {
    "ExecuteTime": {
     "end_time": "2020-05-04T21:59:10.830147Z",
     "start_time": "2020-05-04T21:58:54.803003Z"
    }
   },
   "outputs": [
    {
     "data": {
      "text/html": [
       "<div>\n",
       "<style scoped>\n",
       "    .dataframe tbody tr th:only-of-type {\n",
       "        vertical-align: middle;\n",
       "    }\n",
       "\n",
       "    .dataframe tbody tr th {\n",
       "        vertical-align: top;\n",
       "    }\n",
       "\n",
       "    .dataframe thead th {\n",
       "        text-align: right;\n",
       "    }\n",
       "</style>\n",
       "<table border=\"1\" class=\"dataframe\">\n",
       "  <thead>\n",
       "    <tr style=\"text-align: right;\">\n",
       "      <th></th>\n",
       "      <th>n_of_page</th>\n",
       "      <th>principal_url</th>\n",
       "      <th>internal_urls</th>\n",
       "      <th>internals_dates</th>\n",
       "      <th>internals_text</th>\n",
       "    </tr>\n",
       "  </thead>\n",
       "  <tbody>\n",
       "    <tr>\n",
       "      <th>0</th>\n",
       "      <td>1</td>\n",
       "      <td>https://business.financialpost.com/page/1?s=mi...</td>\n",
       "      <td>https://business.financialpost.com/pmn/busines...</td>\n",
       "      <td>2019-08-27T09:25:03-04:00</td>\n",
       "      <td>AMSTERDAM — Microsoft is remotely collecting d...</td>\n",
       "    </tr>\n",
       "    <tr>\n",
       "      <th>1</th>\n",
       "      <td>1</td>\n",
       "      <td>https://business.financialpost.com/page/1?s=mi...</td>\n",
       "      <td>https://business.financialpost.com/technology/...</td>\n",
       "      <td>2015-03-18T11:01:07-04:00</td>\n",
       "      <td>ATLANTA, Georgia – This week, over 10,000 peop...</td>\n",
       "    </tr>\n",
       "    <tr>\n",
       "      <th>2</th>\n",
       "      <td>1</td>\n",
       "      <td>https://business.financialpost.com/page/1?s=mi...</td>\n",
       "      <td>https://business.financialpost.com/pmn/press-r...</td>\n",
       "      <td>2018-09-25T09:02:40-04:00</td>\n",
       "      <td>NEW YORK —  Pexip, an award-winning video conf...</td>\n",
       "    </tr>\n",
       "    <tr>\n",
       "      <th>3</th>\n",
       "      <td>1</td>\n",
       "      <td>https://business.financialpost.com/page/1?s=mi...</td>\n",
       "      <td>https://business.financialpost.com/business-in...</td>\n",
       "      <td>2012-11-13T12:02:39-05:00</td>\n",
       "      <td>Microsoft’s Windows boss Steven Sinofsky is ou...</td>\n",
       "    </tr>\n",
       "    <tr>\n",
       "      <th>4</th>\n",
       "      <td>1</td>\n",
       "      <td>https://business.financialpost.com/page/1?s=mi...</td>\n",
       "      <td>https://business.financialpost.com/business-in...</td>\n",
       "      <td>2013-04-15T11:56:02-04:00</td>\n",
       "      <td>Microsoft is working on a smartwatch with a 1....</td>\n",
       "    </tr>\n",
       "  </tbody>\n",
       "</table>\n",
       "</div>"
      ],
      "text/plain": [
       "   n_of_page                                      principal_url  \\\n",
       "0          1  https://business.financialpost.com/page/1?s=mi...   \n",
       "1          1  https://business.financialpost.com/page/1?s=mi...   \n",
       "2          1  https://business.financialpost.com/page/1?s=mi...   \n",
       "3          1  https://business.financialpost.com/page/1?s=mi...   \n",
       "4          1  https://business.financialpost.com/page/1?s=mi...   \n",
       "\n",
       "                                       internal_urls  \\\n",
       "0  https://business.financialpost.com/pmn/busines...   \n",
       "1  https://business.financialpost.com/technology/...   \n",
       "2  https://business.financialpost.com/pmn/press-r...   \n",
       "3  https://business.financialpost.com/business-in...   \n",
       "4  https://business.financialpost.com/business-in...   \n",
       "\n",
       "             internals_dates  \\\n",
       "0  2019-08-27T09:25:03-04:00   \n",
       "1  2015-03-18T11:01:07-04:00   \n",
       "2  2018-09-25T09:02:40-04:00   \n",
       "3  2012-11-13T12:02:39-05:00   \n",
       "4  2013-04-15T11:56:02-04:00   \n",
       "\n",
       "                                      internals_text  \n",
       "0  AMSTERDAM — Microsoft is remotely collecting d...  \n",
       "1  ATLANTA, Georgia – This week, over 10,000 peop...  \n",
       "2  NEW YORK —  Pexip, an award-winning video conf...  \n",
       "3  Microsoft’s Windows boss Steven Sinofsky is ou...  \n",
       "4  Microsoft is working on a smartwatch with a 1....  "
      ]
     },
     "execution_count": 8,
     "metadata": {},
     "output_type": "execute_result"
    }
   ],
   "source": [
    "a = np.vectorize(extract_date_and_text)\n",
    "test = df[0:10].copy()\n",
    "test[\"internals_dates\"],test[\"internals_text\"] = a(test[\"internal_urls\"][0:10])\n",
    "test.head()"
   ]
  },
  {
   "cell_type": "code",
   "execution_count": null,
   "metadata": {},
   "outputs": [],
   "source": []
  },
  {
   "cell_type": "code",
   "execution_count": null,
   "metadata": {},
   "outputs": [],
   "source": []
  },
  {
   "cell_type": "code",
   "execution_count": 9,
   "metadata": {
    "ExecuteTime": {
     "end_time": "2020-05-04T22:05:02.841767Z",
     "start_time": "2020-05-04T21:59:31.865209Z"
    }
   },
   "outputs": [],
   "source": [
    "a = np.vectorize(extract_date_and_text)\n",
    "df[\"internals_dates\"],df[\"internals_text\"] = a(df[\"internal_urls\"])"
   ]
  },
  {
   "cell_type": "code",
   "execution_count": 10,
   "metadata": {
    "ExecuteTime": {
     "end_time": "2020-05-04T22:05:02.868176Z",
     "start_time": "2020-05-04T22:05:02.843232Z"
    }
   },
   "outputs": [
    {
     "data": {
      "text/html": [
       "<div>\n",
       "<style scoped>\n",
       "    .dataframe tbody tr th:only-of-type {\n",
       "        vertical-align: middle;\n",
       "    }\n",
       "\n",
       "    .dataframe tbody tr th {\n",
       "        vertical-align: top;\n",
       "    }\n",
       "\n",
       "    .dataframe thead th {\n",
       "        text-align: right;\n",
       "    }\n",
       "</style>\n",
       "<table border=\"1\" class=\"dataframe\">\n",
       "  <thead>\n",
       "    <tr style=\"text-align: right;\">\n",
       "      <th></th>\n",
       "      <th>n_of_page</th>\n",
       "      <th>principal_url</th>\n",
       "      <th>internal_urls</th>\n",
       "      <th>internals_dates</th>\n",
       "      <th>internals_text</th>\n",
       "    </tr>\n",
       "  </thead>\n",
       "  <tbody>\n",
       "    <tr>\n",
       "      <th>0</th>\n",
       "      <td>1</td>\n",
       "      <td>https://business.financialpost.com/page/1?s=mi...</td>\n",
       "      <td>https://business.financialpost.com/pmn/busines...</td>\n",
       "      <td>2019-08-27T09:25:03-04:00</td>\n",
       "      <td>AMSTERDAM — Microsoft is remotely collecting d...</td>\n",
       "    </tr>\n",
       "    <tr>\n",
       "      <th>1</th>\n",
       "      <td>1</td>\n",
       "      <td>https://business.financialpost.com/page/1?s=mi...</td>\n",
       "      <td>https://business.financialpost.com/technology/...</td>\n",
       "      <td>2015-03-18T11:01:07-04:00</td>\n",
       "      <td>ATLANTA, Georgia – This week, over 10,000 peop...</td>\n",
       "    </tr>\n",
       "    <tr>\n",
       "      <th>2</th>\n",
       "      <td>1</td>\n",
       "      <td>https://business.financialpost.com/page/1?s=mi...</td>\n",
       "      <td>https://business.financialpost.com/pmn/press-r...</td>\n",
       "      <td>2018-09-25T09:02:40-04:00</td>\n",
       "      <td>NEW YORK —  Pexip, an award-winning video conf...</td>\n",
       "    </tr>\n",
       "    <tr>\n",
       "      <th>3</th>\n",
       "      <td>1</td>\n",
       "      <td>https://business.financialpost.com/page/1?s=mi...</td>\n",
       "      <td>https://business.financialpost.com/business-in...</td>\n",
       "      <td>2012-11-13T12:02:39-05:00</td>\n",
       "      <td>Microsoft’s Windows boss Steven Sinofsky is ou...</td>\n",
       "    </tr>\n",
       "    <tr>\n",
       "      <th>4</th>\n",
       "      <td>1</td>\n",
       "      <td>https://business.financialpost.com/page/1?s=mi...</td>\n",
       "      <td>https://business.financialpost.com/business-in...</td>\n",
       "      <td>2013-04-15T11:56:02-04:00</td>\n",
       "      <td>Microsoft is working on a smartwatch with a 1....</td>\n",
       "    </tr>\n",
       "  </tbody>\n",
       "</table>\n",
       "</div>"
      ],
      "text/plain": [
       "   n_of_page                                      principal_url  \\\n",
       "0          1  https://business.financialpost.com/page/1?s=mi...   \n",
       "1          1  https://business.financialpost.com/page/1?s=mi...   \n",
       "2          1  https://business.financialpost.com/page/1?s=mi...   \n",
       "3          1  https://business.financialpost.com/page/1?s=mi...   \n",
       "4          1  https://business.financialpost.com/page/1?s=mi...   \n",
       "\n",
       "                                       internal_urls  \\\n",
       "0  https://business.financialpost.com/pmn/busines...   \n",
       "1  https://business.financialpost.com/technology/...   \n",
       "2  https://business.financialpost.com/pmn/press-r...   \n",
       "3  https://business.financialpost.com/business-in...   \n",
       "4  https://business.financialpost.com/business-in...   \n",
       "\n",
       "             internals_dates  \\\n",
       "0  2019-08-27T09:25:03-04:00   \n",
       "1  2015-03-18T11:01:07-04:00   \n",
       "2  2018-09-25T09:02:40-04:00   \n",
       "3  2012-11-13T12:02:39-05:00   \n",
       "4  2013-04-15T11:56:02-04:00   \n",
       "\n",
       "                                      internals_text  \n",
       "0  AMSTERDAM — Microsoft is remotely collecting d...  \n",
       "1  ATLANTA, Georgia – This week, over 10,000 peop...  \n",
       "2  NEW YORK —  Pexip, an award-winning video conf...  \n",
       "3  Microsoft’s Windows boss Steven Sinofsky is ou...  \n",
       "4  Microsoft is working on a smartwatch with a 1....  "
      ]
     },
     "execution_count": 10,
     "metadata": {},
     "output_type": "execute_result"
    }
   ],
   "source": [
    "df.head()"
   ]
  },
  {
   "cell_type": "code",
   "execution_count": null,
   "metadata": {},
   "outputs": [],
   "source": []
  },
  {
   "cell_type": "code",
   "execution_count": 11,
   "metadata": {
    "ExecuteTime": {
     "end_time": "2020-05-04T22:05:51.895932Z",
     "start_time": "2020-05-04T22:05:51.881186Z"
    }
   },
   "outputs": [
    {
     "data": {
      "text/html": [
       "<div>\n",
       "<style scoped>\n",
       "    .dataframe tbody tr th:only-of-type {\n",
       "        vertical-align: middle;\n",
       "    }\n",
       "\n",
       "    .dataframe tbody tr th {\n",
       "        vertical-align: top;\n",
       "    }\n",
       "\n",
       "    .dataframe thead th {\n",
       "        text-align: right;\n",
       "    }\n",
       "</style>\n",
       "<table border=\"1\" class=\"dataframe\">\n",
       "  <thead>\n",
       "    <tr style=\"text-align: right;\">\n",
       "      <th></th>\n",
       "      <th>n_of_page</th>\n",
       "      <th>principal_url</th>\n",
       "      <th>internal_urls</th>\n",
       "      <th>internals_dates</th>\n",
       "      <th>internals_text</th>\n",
       "    </tr>\n",
       "  </thead>\n",
       "  <tbody>\n",
       "  </tbody>\n",
       "</table>\n",
       "</div>"
      ],
      "text/plain": [
       "Empty DataFrame\n",
       "Columns: [n_of_page, principal_url, internal_urls, internals_dates, internals_text]\n",
       "Index: []"
      ]
     },
     "execution_count": 11,
     "metadata": {},
     "output_type": "execute_result"
    }
   ],
   "source": [
    "df.loc[df[\"internals_text\"] == \"NO TEXT\"]"
   ]
  },
  {
   "cell_type": "code",
   "execution_count": 12,
   "metadata": {
    "ExecuteTime": {
     "end_time": "2020-05-04T22:06:03.617707Z",
     "start_time": "2020-05-04T22:06:03.605881Z"
    }
   },
   "outputs": [
    {
     "data": {
      "text/html": [
       "<div>\n",
       "<style scoped>\n",
       "    .dataframe tbody tr th:only-of-type {\n",
       "        vertical-align: middle;\n",
       "    }\n",
       "\n",
       "    .dataframe tbody tr th {\n",
       "        vertical-align: top;\n",
       "    }\n",
       "\n",
       "    .dataframe thead th {\n",
       "        text-align: right;\n",
       "    }\n",
       "</style>\n",
       "<table border=\"1\" class=\"dataframe\">\n",
       "  <thead>\n",
       "    <tr style=\"text-align: right;\">\n",
       "      <th></th>\n",
       "      <th>n_of_page</th>\n",
       "      <th>principal_url</th>\n",
       "      <th>internal_urls</th>\n",
       "      <th>internals_dates</th>\n",
       "      <th>internals_text</th>\n",
       "    </tr>\n",
       "  </thead>\n",
       "  <tbody>\n",
       "  </tbody>\n",
       "</table>\n",
       "</div>"
      ],
      "text/plain": [
       "Empty DataFrame\n",
       "Columns: [n_of_page, principal_url, internal_urls, internals_dates, internals_text]\n",
       "Index: []"
      ]
     },
     "execution_count": 12,
     "metadata": {},
     "output_type": "execute_result"
    }
   ],
   "source": [
    "df.loc[df[\"internals_text\"] == \"\"]"
   ]
  },
  {
   "cell_type": "code",
   "execution_count": null,
   "metadata": {},
   "outputs": [],
   "source": []
  },
  {
   "cell_type": "code",
   "execution_count": 14,
   "metadata": {
    "ExecuteTime": {
     "end_time": "2020-05-04T22:07:55.942422Z",
     "start_time": "2020-05-04T22:07:55.936313Z"
    }
   },
   "outputs": [],
   "source": [
    "df.to_pickle(\"data sets/microsoft_complete_text.pkl\")"
   ]
  },
  {
   "cell_type": "code",
   "execution_count": null,
   "metadata": {},
   "outputs": [],
   "source": []
  },
  {
   "cell_type": "code",
   "execution_count": null,
   "metadata": {},
   "outputs": [],
   "source": []
  },
  {
   "cell_type": "code",
   "execution_count": null,
   "metadata": {},
   "outputs": [],
   "source": []
  },
  {
   "cell_type": "code",
   "execution_count": null,
   "metadata": {},
   "outputs": [],
   "source": []
  },
  {
   "cell_type": "code",
   "execution_count": null,
   "metadata": {},
   "outputs": [],
   "source": []
  },
  {
   "cell_type": "code",
   "execution_count": null,
   "metadata": {},
   "outputs": [],
   "source": []
  }
 ],
 "metadata": {
  "kernelspec": {
   "display_name": "Python 3",
   "language": "python",
   "name": "python3"
  },
  "language_info": {
   "codemirror_mode": {
    "name": "ipython",
    "version": 3
   },
   "file_extension": ".py",
   "mimetype": "text/x-python",
   "name": "python",
   "nbconvert_exporter": "python",
   "pygments_lexer": "ipython3",
   "version": "3.7.7"
  },
  "latex_envs": {
   "LaTeX_envs_menu_present": true,
   "autoclose": false,
   "autocomplete": true,
   "bibliofile": "biblio.bib",
   "cite_by": "apalike",
   "current_citInitial": 1,
   "eqLabelWithNumbers": true,
   "eqNumInitial": 1,
   "hotkeys": {
    "equation": "Ctrl-E",
    "itemize": "Ctrl-I"
   },
   "labels_anchors": false,
   "latex_user_defs": false,
   "report_style_numbering": false,
   "user_envs_cfg": false
  },
  "toc": {
   "base_numbering": 1,
   "nav_menu": {},
   "number_sections": true,
   "sideBar": true,
   "skip_h1_title": false,
   "title_cell": "Table of Contents",
   "title_sidebar": "Contents",
   "toc_cell": false,
   "toc_position": {},
   "toc_section_display": true,
   "toc_window_display": false
  },
  "varInspector": {
   "cols": {
    "lenName": 16,
    "lenType": 16,
    "lenVar": 40
   },
   "kernels_config": {
    "python": {
     "delete_cmd_postfix": "",
     "delete_cmd_prefix": "del ",
     "library": "var_list.py",
     "varRefreshCmd": "print(var_dic_list())"
    },
    "r": {
     "delete_cmd_postfix": ") ",
     "delete_cmd_prefix": "rm(",
     "library": "var_list.r",
     "varRefreshCmd": "cat(var_dic_list()) "
    }
   },
   "types_to_exclude": [
    "module",
    "function",
    "builtin_function_or_method",
    "instance",
    "_Feature"
   ],
   "window_display": false
  }
 },
 "nbformat": 4,
 "nbformat_minor": 2
}
